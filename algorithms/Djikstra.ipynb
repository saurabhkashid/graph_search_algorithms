{
 "cells": [
  {
   "cell_type": "code",
   "execution_count": 1,
   "id": "153078c8",
   "metadata": {},
   "outputs": [],
   "source": [
    "import numpy as np\n",
    "import matplotlib.pyplot as plt\n",
    "import matplotlib\n",
    "import matplotlib.animation as animation\n",
    "import random\n",
    "import matplotlib.colors\n",
    "import copy\n",
    "%matplotlib inline"
   ]
  },
  {
   "cell_type": "code",
   "execution_count": 40,
   "id": "636f814f",
   "metadata": {},
   "outputs": [],
   "source": [
    "def update_distances(graph, x, y, distance, parent = None): \n",
    "    \"\"\"Update the distances of the current node's neighbors\"\"\"\n",
    "    dRow = [ -1, 0, 1, 0]\n",
    "    dCol = [ 0, 1, 0, -1]\n",
    "    neighbors = []\n",
    "    \n",
    "    for i in range(4):\n",
    "        adjx = x + dRow[i]\n",
    "        adjy = y + dCol[i]\n",
    "        if (graph[adjx][adjy]==0):\n",
    "            neighbors.append([adjx, adjy])\n",
    "    \n",
    "    for a, b in (neighbors):\n",
    "        if distance[x][y] + weight < distance[a][b]:\n",
    "            distance[a][b] = distance[x][y] + weight\n",
    "            parent[a][b] = [x,y]\n",
    "\n",
    "def pick_next_node(graph, distance, visited):\n",
    "    \"\"\"Pick the next univisited node at the smallest distance\"\"\"\n",
    "    min_distance = float('inf')\n",
    "    min_node = []\n",
    "    for i in range(len(distance)):\n",
    "        for j in range(len(distance)):\n",
    "            if (graph[i][j]==0) and not visited[i][j] and distance[i][j] < min_distance:\n",
    "                min_node.append([i, j]) \n",
    "                min_distance = distance[i][j]\n",
    "    return min_node\n",
    "        \n",
    "def shortest_path(graph, sx, sy, destx, desty):\n",
    "    \"\"\"Find the length of the shortest path between source and destination\"\"\"\n",
    "    visited = [[False for i in range (128)] for i in range (128)]\n",
    "    distance = [[float(\"inf\") for i in range (128)] for i in range (128)]\n",
    "    global weight\n",
    "    weight = 1\n",
    "    parent = [[None for i in range (128)] for i in range (128)]\n",
    "    queue = []\n",
    "    idx = 0\n",
    "    \n",
    "    queue.append([sx, sy])\n",
    "    distance[sx][sy] = 0\n",
    "    visited[sx][sy] = True\n",
    "    \n",
    "    while idx < len(queue) and not visited[destx][desty]:\n",
    "        currentx, currenty = queue[idx]\n",
    "        update_distances(graph, currentx, currenty, distance, parent) #, parent\n",
    "        \n",
    "        next_node = pick_next_node(graph, distance, visited)\n",
    "        if next_node is not None:\n",
    "            next_nodex, next_nodey = next_node[0]\n",
    "            visited[next_nodex][next_nodey] = True\n",
    "            queue.append([next_nodex, next_nodey])\n",
    "        idx += 1\n",
    "    \n",
    "    path = []\n",
    "    current = [destx, desty]\n",
    "    while current != [sx, sy]:\n",
    "        currentx , currenty = current[0], current[1]\n",
    "        next = parent[currentx][currenty]\n",
    "        path.append(next)\n",
    "        current = next     \n",
    "        \n",
    "    return distance[destx][desty], path, visited "
   ]
  },
  {
   "cell_type": "code",
   "execution_count": 42,
   "id": "f715d782",
   "metadata": {},
   "outputs": [],
   "source": [
    "def save_animation_video(grid, x,y,endx,endy):\n",
    "    cp =copy.deepcopy(grid)\n",
    "    dist, path, visited = shortest_path(grid, x, y, endx, endy)\n",
    "    count=0\n",
    "    for i in range (len(visited)):\n",
    "        for j in range (len(visited)):\n",
    "            if visited[i][j]== True:\n",
    "                count+=1\n",
    "    print(count)\n",
    "    xx,yy = path[-2]\n",
    "    cp[xx][yy] = 2\n",
    "    result = np.array(path)\n",
    "    print(dist)\n",
    "    \n",
    "    \n",
    "    fig = plt.figure( figsize=(10,10) )\n",
    "    cmap = matplotlib.colors.ListedColormap([\"white\", \"black\",'red'])\n",
    "    fps = 50\n",
    "\n",
    "    grid1=[]\n",
    "\n",
    "    for i in range (len(path)):\n",
    "        x, y = path[i]\n",
    "        cp[x][y] = 2\n",
    "        m = copy.deepcopy(cp)\n",
    "        grid1.append(m)\n",
    "#     print(grid1[-3]==grid[-1])\n",
    "        \n",
    "    im = plt.imshow(grid1[0], cmap=cmap)\n",
    "#     print(grid1[-1])\n",
    "\n",
    "    def animate_func (i):\n",
    "        if i % fps ==0:\n",
    "            print('.', end=' ')\n",
    "        im.set_array(grid1[i])\n",
    "        return [im]\n",
    "\n",
    "    anim = animation.FuncAnimation(fig, animate_func, frames=len(path), interval=10)\n",
    "    anim.save('djikstra1.mp4')\n",
    "    print(\"End\")"
   ]
  },
  {
   "cell_type": "code",
   "execution_count": 43,
   "id": "3875a7f3",
   "metadata": {},
   "outputs": [],
   "source": [
    "# This will import the grids\n",
    "import numpy as np\n",
    "grid20= np.loadtxt(\"grid20.txt\", dtype= int)\n",
    "grid20 = grid20.tolist()\n",
    "grid30= np.loadtxt(\"grid30.txt\", dtype= int)\n",
    "grid30 = grid30.tolist()\n",
    "grid35= np.loadtxt(\"grid.txt\", dtype= int)\n",
    "grid35 = grid35.tolist()"
   ]
  },
  {
   "cell_type": "code",
   "execution_count": null,
   "id": "674f4fe0",
   "metadata": {},
   "outputs": [],
   "source": [
    "# Run this code to plot the graph\n",
    "_, _, visited3 = shortest_path(grid1,2,2,125,125)\n",
    "_, _, visited1 = shortest_path(grid20, 2,2,125,125)\n",
    "_,_, visited2 = shortest_path(grid30, 2,2,125,125)\n",
    "count1 =0\n",
    "for i in range(len(visited1)):\n",
    "    for j in range(len(visited1)):\n",
    "        if visited1[i][j]== True:\n",
    "            count1+=1\n",
    "count2= 0\n",
    "for i in range(len(visited2)):\n",
    "    for j in range(len(visited2)):\n",
    "        if visited2[i][j]== True:\n",
    "            count2+=1\n",
    "count3= 0\n",
    "for i in range(len(visited3)):\n",
    "    for j in range(len(visited3)):\n",
    "        if visited3[i][j]== True:\n",
    "            count3+=1\n",
    "\n",
    "y1 = [count1, count2, count3]\n",
    "x= [20,30,35]\n",
    "fig, ax = plt.subplots()\n",
    "ax.bar(x, y1, width=1, edgecolor=\"white\", linewidth=0.7)\n",
    "plt.xlabel(\"% obstacle grid\")\n",
    "plt.ylabel(\"Iteration\")\n",
    "plt.show()\n",
    "plt.savefig(\"Djikstra_plot.png\")"
   ]
  },
  {
   "cell_type": "code",
   "execution_count": 44,
   "id": "5d3dff7b",
   "metadata": {},
   "outputs": [
    {
     "name": "stdout",
     "output_type": "stream",
     "text": [
      "12057\n",
      "246\n",
      ". . . . . . End\n"
     ]
    },
    {
     "data": {
      "image/png": "[encoded data removed]",
      "text/plain": [
       "<Figure size 720x720 with 1 Axes>"
      ]
     },
     "metadata": {
      "needs_background": "light"
     },
     "output_type": "display_data"
    }
   ],
   "source": [
    "save_animation_video(grid1, 2,2,125,125)"
   ]
  },
  {
   "cell_type": "code",
   "execution_count": null,
   "id": "b462dc5e",
   "metadata": {},
   "outputs": [],
   "source": []
  }
 ],
 "metadata": {
  "kernelspec": {
   "display_name": "Python 3 (ipykernel)",
   "language": "python",
   "name": "python3"
  },
  "language_info": {
   "codemirror_mode": {
    "name": "ipython",
    "version": 3
   },
   "file_extension": ".py",
   "mimetype": "text/x-python",
   "name": "python",
   "nbconvert_exporter": "python",
   "pygments_lexer": "ipython3",
   "version": "3.9.12"
  }
 },
 "nbformat": 4,
 "nbformat_minor": 5
}
