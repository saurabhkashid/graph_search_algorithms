{
 "cells": [
  {
   "cell_type": "code",
   "execution_count": 1,
   "id": "096243b9",
   "metadata": {},
   "outputs": [],
   "source": [
    "import numpy as np\n",
    "import matplotlib.pyplot as plt\n",
    "import matplotlib\n",
    "import matplotlib.animation as animation\n",
    "import random\n",
    "import matplotlib.colors\n",
    "import copy\n",
    "%matplotlib inline"
   ]
  },
  {
   "cell_type": "code",
   "execution_count": 35,
   "id": "a801a0a2",
   "metadata": {},
   "outputs": [],
   "source": [
    "def bfs(grid, row, col, row1, col1):\n",
    "\n",
    "    dRow = [ -1, 0, 1, 0]\n",
    "    dCol = [ 0, 1, 0, -1]\n",
    "    visited = [[False for i in range (len(grid))] for i in range (len(grid))]\n",
    "    parent = [[None for i in range (128)] for i in range (128)]  \n",
    "    queue = []\n",
    "    \n",
    "    def isValid(vis, row, col):\n",
    "\n",
    "        if (row < 0 or col < 0 or row >= 127 or col >= 127):\n",
    "            return False\n",
    "        if (vis[row][col]):\n",
    "            return False\n",
    "        return True\n",
    "    queue.append([row, col])\n",
    "    visited[row][col] = True\n",
    "    dist = 0\n",
    "    explored = []\n",
    "    explored.append([row, col])\n",
    "\n",
    "    idx = 0\n",
    "    while idx < len(queue):\n",
    "        current = queue[idx]\n",
    "        idx += 1\n",
    "        x = current[0]\n",
    "        y = current[1]\n",
    "        if x==row1 and y== col1:\n",
    "            explored.pop()\n",
    "            path = []\n",
    "            current = [row1, col1]\n",
    "            while current != [row, col]:\n",
    "                currentx , currenty = current[0], current[1]\n",
    "                next = parent[currentx][currenty]\n",
    "                path.append(next)\n",
    "                current = next\n",
    "            return dist, explored, path\n",
    "\n",
    "        # Go to the adjacent cells\n",
    "        for i in range(4):\n",
    "            adjx = x + dRow[i]\n",
    "            adjy = y + dCol[i]\n",
    "            \n",
    "            if (isValid(visited, adjx, adjy)) and (grid[adjx][adjy]==0):\n",
    "                    dist+=1\n",
    "                    explored.append([adjx, adjy])\n",
    "                    parent[adjx][adjy]=[x,y]\n",
    "                    queue.append([adjx, adjy])\n",
    "                    visited[adjx][adjy] = True\n",
    "                    \n"
   ]
  },
  {
   "cell_type": "code",
   "execution_count": 22,
   "id": "048370da",
   "metadata": {},
   "outputs": [],
   "source": [
    "def save_animation_video(grid, x,y,endx,endy):\n",
    "    cp =copy.deepcopy(grid)\n",
    "    dist, result, path = bfs(grid, x, y, endx, endy)\n",
    "    xx,yy = path[-2]\n",
    "    cp[xx][yy] = 3\n",
    "    result = np.array(result)  \n",
    "    fig = plt.figure( figsize=(10,10) )\n",
    "    cmap = matplotlib.colors.ListedColormap([\"white\", \"black\",'lightgreen','red'])\n",
    "    fps = 50\n",
    "\n",
    "    grid1=[]\n",
    "    for i in range (len(result)):\n",
    "        x, y = result[i]\n",
    "        cp[x][y] = 2\n",
    "#         print(i[0])\n",
    "        m = copy.deepcopy(cp)\n",
    "        grid1.append(m)\n",
    "    for i in range (len(path)):\n",
    "        x, y = path[i]\n",
    "        cp[x][y] = 3\n",
    "        m = copy.deepcopy(cp)\n",
    "        grid1.append(m)\n",
    "        \n",
    "    im = plt.imshow(grid1[0], cmap=cmap)\n",
    "\n",
    "    def animate_func (i):\n",
    "        if i % fps ==0:\n",
    "            print('.', end=' ')\n",
    "        im.set_array(grid1[i])\n",
    "        return [im]\n",
    "\n",
    "    anim = animation.FuncAnimation(fig, animate_func, frames=len(result)+len(path), interval=10)\n",
    "    anim.save('bfs2.mp4')\n",
    "    print(\"End\")"
   ]
  },
  {
   "cell_type": "code",
   "execution_count": 36,
   "id": "0f111b1c",
   "metadata": {},
   "outputs": [],
   "source": [
    "import numpy as np\n",
    "grid20= np.loadtxt(\"grid20.txt\", dtype= int)\n",
    "grid20 = grid20.tolist()\n",
    "grid30= np.loadtxt(\"grid30.txt\", dtype= int)\n",
    "grid30 = grid30.tolist()\n",
    "grid35= np.loadtxt(\"grid.txt\", dtype= int)\n",
    "grid35 = grid35.tolist()"
   ]
  },
  {
   "cell_type": "code",
   "execution_count": 37,
   "id": "caf3823e",
   "metadata": {},
   "outputs": [
    {
     "name": "stdout",
     "output_type": "stream",
     "text": [
      "[[124, 125], [123, 125], [123, 124], [122, 124], [121, 124], [121, 123], [120, 123], [119, 123], [118, 123], [118, 122], [118, 121], [119, 121], [119, 120], [119, 119], [118, 119], [118, 118], [117, 118], [116, 118], [115, 118], [114, 118], [113, 118], [112, 118], [111, 118], [111, 117], [111, 116], [111, 115], [111, 114], [110, 114], [110, 113], [110, 112], [110, 111], [110, 110], [110, 109], [110, 108], [110, 107], [111, 107], [112, 107], [113, 107], [114, 107], [115, 107], [115, 106], [115, 105], [114, 105], [114, 104], [114, 103], [114, 102], [114, 101], [114, 100], [113, 100], [112, 100], [112, 99], [111, 99], [111, 98], [110, 98], [109, 98], [108, 98], [107, 98], [106, 98], [105, 98], [104, 98], [103, 98], [102, 98], [101, 98], [100, 98], [99, 98], [98, 98], [97, 98], [96, 98], [96, 97], [95, 97], [95, 96], [94, 96], [93, 96], [92, 96], [91, 96], [91, 95], [90, 95], [89, 95], [89, 94], [88, 94], [87, 94], [86, 94], [85, 94], [84, 94], [83, 94], [83, 95], [82, 95], [81, 95], [80, 95], [79, 95], [78, 95], [77, 95], [76, 95], [75, 95], [74, 95], [73, 95], [72, 95], [71, 95], [70, 95], [69, 95], [68, 95], [67, 95], [66, 95], [65, 95], [64, 95], [63, 95], [62, 95], [61, 95], [60, 95], [59, 95], [58, 95], [57, 95], [57, 94], [57, 93], [57, 92], [56, 92], [55, 92], [55, 91], [54, 91], [53, 91], [53, 90], [53, 89], [53, 88], [53, 87], [52, 87], [51, 87], [50, 87], [49, 87], [48, 87], [48, 86], [48, 85], [48, 84], [48, 83], [48, 82], [47, 82], [46, 82], [46, 81], [46, 80], [46, 79], [46, 78], [46, 77], [45, 77], [45, 76], [45, 75], [45, 74], [45, 73], [46, 73], [46, 72], [47, 72], [47, 71], [47, 70], [47, 69], [47, 68], [47, 67], [47, 66], [48, 66], [48, 65], [48, 64], [48, 63], [47, 63], [47, 62], [46, 62], [46, 61], [46, 60], [46, 59], [46, 58], [46, 57], [45, 57], [45, 56], [44, 56], [44, 55], [44, 54], [43, 54], [42, 54], [42, 53], [42, 52], [41, 52], [40, 52], [40, 51], [40, 50], [40, 49], [40, 48], [40, 47], [40, 46], [40, 45], [39, 45], [39, 44], [38, 44], [37, 44], [36, 44], [36, 43], [36, 42], [36, 41], [36, 40], [35, 40], [35, 39], [34, 39], [34, 38], [33, 38], [32, 38], [31, 38], [30, 38], [29, 38], [28, 38], [28, 37], [27, 37], [27, 36], [27, 35], [27, 34], [27, 33], [27, 32], [28, 32], [28, 31], [28, 30], [28, 29], [27, 29], [26, 29], [25, 29], [25, 28], [24, 28], [23, 28], [23, 29], [22, 29], [21, 29], [20, 29], [19, 29], [18, 29], [17, 29], [16, 29], [15, 29], [14, 29], [13, 29], [12, 29], [11, 29], [10, 29], [9, 29], [8, 29], [8, 28], [7, 28], [7, 27], [6, 27], [6, 26], [6, 25], [6, 24], [6, 23], [6, 22], [5, 22], [5, 21], [4, 21], [3, 21], [2, 21], [2, 20], [2, 19], [2, 18], [2, 17], [2, 16], [2, 15], [2, 14], [2, 13], [2, 12], [2, 11], [2, 10], [2, 9]]\n"
     ]
    }
   ],
   "source": [
    "#run this code to shortest path on grid having obstacle 35%\n",
    "dist3, explored, path = bfs(grid35,2,9,125,125)\n",
    "# if you want to print the path uncomment the following command \n",
    "# print(path)"
   ]
  },
  {
   "cell_type": "code",
   "execution_count": 33,
   "id": "3f70978d",
   "metadata": {
    "scrolled": true
   },
   "outputs": [
    {
     "data": {
      "image/png": "[encoded data removed]",
      "text/plain": [
       "<Figure size 432x288 with 1 Axes>"
      ]
     },
     "metadata": {
      "needs_background": "light"
     },
     "output_type": "display_data"
    },
    {
     "data": {
      "text/plain": [
       "<Figure size 432x288 with 0 Axes>"
      ]
     },
     "metadata": {},
     "output_type": "display_data"
    }
   ],
   "source": [
    "\n",
    "dist1, _, _ = bfs(grid20, 2,2,125,125 )\n",
    "dist2, _,_ = bfs(grid30, 2,2,125,125)\n",
    "dist3,_,_ = bfs(grid35,2,9,125,125)\n",
    "y=[dist1,dist2,dist3]\n",
    "x = [20,30,35]\n",
    "\n",
    "# fig = plt.fig(8,8)\n",
    "fig, ax = plt.subplots()\n",
    "ax.bar(x, y, width=1, edgecolor=\"white\", linewidth=0.7)\n",
    "plt.xlabel(\"% obstacle grid\")\n",
    "plt.ylabel(\"Iteration\")\n",
    "plt.show()\n",
    "plt.savefig(\"BFSgraph.png\")"
   ]
  },
  {
   "cell_type": "code",
   "execution_count": 24,
   "id": "e4b8da28",
   "metadata": {},
   "outputs": [
    {
     "name": "stdout",
     "output_type": "stream",
     "text": [
      "[2, 10]\n",
      "9208\n",
      ". . . . . . . . . . . . . . . . . . . . . . . . . . . . . . . . . . . . . . . . . . . . . . . . . . . . . . . . . . . . . . . . . . . . . . . . . . . . . . . . . . . . . . . . . . . . . . . . . . . . . . . . . . . . . . . . . . . . . . . . . . . . . . . . . . . . . . . . . . . . . . . . . . . . . . . . . . . . . . . . . . . . . . . . . . . . . . . . . . . . . . . . . . . . . . . End\n"
     ]
    },
    {
     "data": {
      "image/png": "[encoded data removed]",
      "text/plain": [
       "<Figure size 720x720 with 1 Axes>"
      ]
     },
     "metadata": {
      "needs_background": "light"
     },
     "output_type": "display_data"
    }
   ],
   "source": [
    "# Run this code to save the animation\n",
    "save_animation_video(grid35,2,9,125,125)"
   ]
  },
  {
   "cell_type": "code",
   "execution_count": null,
   "id": "9be4316c",
   "metadata": {},
   "outputs": [],
   "source": []
  }
 ],
 "metadata": {
  "kernelspec": {
   "display_name": "Python 3 (ipykernel)",
   "language": "python",
   "name": "python3"
  },
  "language_info": {
   "codemirror_mode": {
    "name": "ipython",
    "version": 3
   },
   "file_extension": ".py",
   "mimetype": "text/x-python",
   "name": "python",
   "nbconvert_exporter": "python",
   "pygments_lexer": "ipython3",
   "version": "3.9.12"
  }
 },
 "nbformat": 4,
 "nbformat_minor": 5
}
