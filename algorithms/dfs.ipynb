{
 "cells": [
  {
   "cell_type": "code",
   "execution_count": 28,
   "id": "6206ce9a",
   "metadata": {},
   "outputs": [],
   "source": [
    "import numpy as np\n",
    "import matplotlib.pyplot as plt\n",
    "import matplotlib\n",
    "import matplotlib.animation as animation\n",
    "import random\n",
    "import matplotlib.colors\n",
    "import copy\n",
    "%matplotlib inline"
   ]
  },
  {
   "cell_type": "code",
   "execution_count": 43,
   "id": "ae036b79",
   "metadata": {},
   "outputs": [],
   "source": [
    "def dfs (graph, row, col, row1, col1):\n",
    "    stack = []\n",
    "    discovered = [[False for i in range (128)] for i in range (128)]\n",
    "    stack.append([row, col])\n",
    "    result = []\n",
    "    result.append([row, col])\n",
    "    parent = [[None for i in range (128)] for i in range (128)]\n",
    "    dist = 0\n",
    "    dRow = [ -1, 0, 1, 0]\n",
    "    dCol = [ 0, 1, 0, -1]\n",
    "    def isValid(vis, row, col):\n",
    "        # If cell lies out of bounds\n",
    "        if (row < 0 or col < 0 or row >= 127 or col >= 127):\n",
    "            return False\n",
    "\n",
    "        # If cell is already visited\n",
    "        if (vis[row][col]):\n",
    "            return False\n",
    "    # Otherwise\n",
    "        return True\n",
    "    while len(stack)!=0:\n",
    "        current = stack.pop()\n",
    "        x, y = current[0], current[1]\n",
    "        if not discovered[x][y]:\n",
    "            discovered[x][y] = True\n",
    "            \n",
    "            if x== row1 and y == col1:\n",
    "                result.pop()\n",
    "                short_path = []\n",
    "                current = [row1, col1]\n",
    "                while current != [row, col]:\n",
    "            #         print(\"hi\")\n",
    "                    currentx , currenty = current[0], current[1]\n",
    "                    next = parent[currentx][currenty]\n",
    "                    short_path.append(next)\n",
    "                    current = next \n",
    "                return dist, result, len(short_path)\n",
    "            \n",
    "            for i in range(4):\n",
    "                adjx = x + dRow[i]\n",
    "                adjy = y + dCol[i]\n",
    "                if (isValid(discovered, adjx, adjy)) and (graph[adjx][adjy]==0):\n",
    "                    stack.append([adjx, adjy])\n",
    "#                     print(adjx, adjy)\n",
    "                    parent[adjx][adjy]= [x,y]\n",
    "                    result.append([adjx, adjy])\n",
    "                    dist+=1\n",
    "#     fig = plt.figure( figsize=(10,10) )\n",
    "#     im = plt.imshow(graph)\n",
    "#     plt.show()\n",
    "    return dfs.result"
   ]
  },
  {
   "cell_type": "code",
   "execution_count": 30,
   "id": "49d5beb0",
   "metadata": {},
   "outputs": [],
   "source": [
    "def save_animation_video(grid, x,y,endx,endy):\n",
    "    cp =copy.deepcopy(grid)\n",
    "    dist, result, path = dfs(grid, x, y, endx, endy)\n",
    "#     cp[x][y], cp[endx][endy]= 3, 6\n",
    "    m,n = path[-2]\n",
    "    cp[m][n]=3\n",
    "    result = np.array(result)\n",
    "#     print(dist)\n",
    "    \n",
    "    fig = plt.figure( figsize=(10,10) )\n",
    "    cmap = matplotlib.colors.ListedColormap([\"white\", \"black\", \"lightblue\", \"lightgreen\", \"red\"])\n",
    "    fps = 50\n",
    "\n",
    "    grid1=[]\n",
    "    for i in range (len(result)):\n",
    "        x, y = result[i]\n",
    "        cp[x][y] = 2\n",
    "#         print(i[0])\n",
    "        m = copy.deepcopy(cp)\n",
    "        grid1.append(m)\n",
    "    for i in range (len(path)):\n",
    "        x, y = path[i]\n",
    "        cp[x][y] = 3\n",
    "        m = copy.deepcopy(cp)\n",
    "        grid1.append(m)\n",
    "        \n",
    "    im = plt.imshow(grid1[0], cmap=cmap)\n",
    "    print(\"start\")\n",
    "\n",
    "    def animate_func (i):\n",
    "        if i % fps ==0:\n",
    "            print('.', end=' ')\n",
    "        im.set_array(grid1[i])\n",
    "        return [im]\n",
    "\n",
    "    anim = animation.FuncAnimation(fig, animate_func, frames= len(result)+len(path), interval=20)\n",
    "    anim.save('dfs1.mp4')\n",
    "    print(\"End\")"
   ]
  },
  {
   "cell_type": "code",
   "execution_count": 45,
   "id": "1395931c",
   "metadata": {},
   "outputs": [],
   "source": [
    "# This wil import the graphs \n",
    "import numpy as np\n",
    "grid20 = np.loadtxt(\"grid20.txt\", dtype= int)\n",
    "grid20 = grid20.tolist()\n",
    "grid30 = np.loadtxt(\"grid30.txt\", dtype= int)\n",
    "grid30 = grid30.tolist()\n",
    "grid35 = np.loadtxt(\"grid.txt\", dtype= int)\n",
    "grid35 = grid35.tolist()"
   ]
  },
  {
   "cell_type": "code",
   "execution_count": 51,
   "id": "769cc861",
   "metadata": {},
   "outputs": [
    {
     "data": {
      "image/png": "[encoded data removed]",
      "text/plain": [
       "<Figure size 432x288 with 1 Axes>"
      ]
     },
     "metadata": {
      "needs_background": "light"
     },
     "output_type": "display_data"
    }
   ],
   "source": [
    "# Run this to plot graphs\n",
    "dist3,_,_ = dfs(grid35,2,9,125,125)\n",
    "dist1, _, _ = dfs(grid20, 2,2,125,125)\n",
    "dist2, _,_ = dfs(grid30, 2,2,125,125)\n",
    "\n",
    "y = [dist1,dist2,dist3]\n",
    "x= [20,30,35]\n",
    "fig, ax = plt.subplots()\n",
    "ax.bar(x, y, width=1, edgecolor=\"white\", linewidth=0.7)\n",
    "plt.xlabel(\"% obstacle grid\")\n",
    "plt.ylabel(\"Iteration\")\n",
    "plt.savefig(\"dfshistogram.png\")\n",
    "plt.show()"
   ]
  },
  {
   "cell_type": "code",
   "execution_count": 17,
   "id": "f199dc3e",
   "metadata": {},
   "outputs": [
    {
     "name": "stdout",
     "output_type": "stream",
     "text": [
      "start\n",
      ". . . . . . . . . . . . . . . . . . . . . . . . . . . . . . . . . . . . . . . . . . . . . . . . . . . . . . . . . . . . . . . . . . . . . . . . . . . . . . . . . . . . . . . . . . . . . . . . . . . . . . . . . . . . . . . . . . . . . . . . . . . . . . . . . . . . . . . . . . . . . . . . . . . . . . . . . . . . End\n"
     ]
    },
    {
     "data": {
      "image/png": "[encoded data removed]",
      "text/plain": [
       "<Figure size 720x720 with 1 Axes>"
      ]
     },
     "metadata": {
      "needs_background": "light"
     },
     "output_type": "display_data"
    }
   ],
   "source": [
    "# Run this to save animation\n",
    "save_animation_video(grid1, 2,9,125,125)"
   ]
  },
  {
   "cell_type": "code",
   "execution_count": null,
   "id": "461191b7",
   "metadata": {},
   "outputs": [],
   "source": []
  }
 ],
 "metadata": {
  "kernelspec": {
   "display_name": "Python 3 (ipykernel)",
   "language": "python",
   "name": "python3"
  },
  "language_info": {
   "codemirror_mode": {
    "name": "ipython",
    "version": 3
   },
   "file_extension": ".py",
   "mimetype": "text/x-python",
   "name": "python",
   "nbconvert_exporter": "python",
   "pygments_lexer": "ipython3",
   "version": "3.9.12"
  }
 },
 "nbformat": 4,
 "nbformat_minor": 5
}
